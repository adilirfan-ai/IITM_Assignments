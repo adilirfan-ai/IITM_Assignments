{
 "cells": [
  {
   "cell_type": "code",
   "execution_count": 1,
   "id": "9d362cd8",
   "metadata": {},
   "outputs": [],
   "source": [
    "import numpy as np"
   ]
  },
  {
   "cell_type": "markdown",
   "id": "885b0133",
   "metadata": {},
   "source": [
    "# Function for unform outcome"
   ]
  },
  {
   "cell_type": "markdown",
   "id": "7a34380c",
   "metadata": {},
   "source": [
    "n:number of outcomes in the sample space\n",
    "output:m outcomoes selected uniformly at random from 1 to n"
   ]
  },
  {
   "cell_type": "code",
   "execution_count": 2,
   "id": "965c7e2a",
   "metadata": {},
   "outputs": [],
   "source": [
    "def uniform(n,m):\n",
    "    return np.random.randint(1, n+1, size=m)"
   ]
  },
  {
   "cell_type": "markdown",
   "id": "b7864213",
   "metadata": {},
   "source": [
    "# Toss a coin"
   ]
  },
  {
   "cell_type": "markdown",
   "id": "83872ef4",
   "metadata": {},
   "source": [
    "Toss once, 10, 100 times\n",
    "1:Heads and 2:Tails"
   ]
  },
  {
   "cell_type": "code",
   "execution_count": 3,
   "id": "3416aed8",
   "metadata": {},
   "outputs": [
    {
     "name": "stdout",
     "output_type": "stream",
     "text": [
      "[2]\n",
      "[1 1 2 2 2 1 2 1 2 2]\n",
      "[1 2 2 1 2 1 1 2 2 1 2 1 1 1 2 1 1 1 1 2 1 2 1 2 1 2 1 2 2 2 1 1 1 2 2 1 2\n",
      " 2 1 1 1 1 1 2 2 2 1 1 1 2 1 2 2 2 1 1 1 1 2 1 2 1 1 2 1 2 2 2 2 1 1 1 1 1\n",
      " 1 2 1 1 1 2 2 1 2 2 1 2 2 2 1 1 1 2 2 2 2 2 1 1 1 1]\n"
     ]
    }
   ],
   "source": [
    "print(uniform(2,1))\n",
    "print(uniform(2,10))\n",
    "print(uniform(2,100))"
   ]
  },
  {
   "cell_type": "markdown",
   "id": "d564bd8a",
   "metadata": {},
   "source": [
    "# Throw a die"
   ]
  },
  {
   "cell_type": "markdown",
   "id": "02c56b0a",
   "metadata": {},
   "source": [
    "Throw once, 10 times and 100 times"
   ]
  },
  {
   "cell_type": "code",
   "execution_count": 4,
   "id": "1e7f031d",
   "metadata": {},
   "outputs": [
    {
     "name": "stdout",
     "output_type": "stream",
     "text": [
      "[3]\n",
      "[3 1 1 4 5 4 3 6 4 5]\n",
      "[5 6 4 5 4 4 5 1 2 6 4 6 3 3 2 5 6 4 5 4 4 6 3 2 3 3 1 1 2 1 4 1 2 4 5 1 4\n",
      " 1 5 3 2 1 1 4 5 5 1 5 3 4 2 6 2 6 4 5 6 1 4 5 1 5 6 1 5 1 4 3 3 5 6 6 4 4\n",
      " 5 4 2 5 6 1 4 6 1 6 4 6 3 2 3 4 6 1 2 5 2 1 5 3 2 5]\n"
     ]
    }
   ],
   "source": [
    "print(uniform(6,1))\n",
    "print(uniform(6,10))\n",
    "print(uniform(6,100))"
   ]
  },
  {
   "cell_type": "markdown",
   "id": "14ce2f0a",
   "metadata": {},
   "source": [
    "# Monte Carlo Simulation"
   ]
  },
  {
   "cell_type": "code",
   "execution_count": 9,
   "id": "1ef745ae",
   "metadata": {},
   "outputs": [
    {
     "name": "stdout",
     "output_type": "stream",
     "text": [
      "0.507\n"
     ]
    }
   ],
   "source": [
    "#Estimation of Monte Carlo simulation for a coin tossing 1000times\n",
    "no_heads = 0\n",
    "for i in range(1000):\n",
    "    if uniform(2,1)==1:\n",
    "        no_heads=no_heads+1\n",
    "print(no_heads/1000)"
   ]
  },
  {
   "cell_type": "code",
   "execution_count": 11,
   "id": "1eaa7e80",
   "metadata": {},
   "outputs": [
    {
     "name": "stdout",
     "output_type": "stream",
     "text": [
      "0.164\n"
     ]
    }
   ],
   "source": [
    "#Estimation of Monte Carlo simulation for a dice throwing 1000\n",
    "no = 0\n",
    "for i in range(1000):\n",
    "    if uniform(6,1)==1:\n",
    "        no+=1\n",
    "print(no/1000)"
   ]
  },
  {
   "cell_type": "code",
   "execution_count": null,
   "id": "fb3b5176",
   "metadata": {},
   "outputs": [],
   "source": []
  }
 ],
 "metadata": {
  "kernelspec": {
   "display_name": "Python 3 (ipykernel)",
   "language": "python",
   "name": "python3"
  },
  "language_info": {
   "codemirror_mode": {
    "name": "ipython",
    "version": 3
   },
   "file_extension": ".py",
   "mimetype": "text/x-python",
   "name": "python",
   "nbconvert_exporter": "python",
   "pygments_lexer": "ipython3",
   "version": "3.9.12"
  }
 },
 "nbformat": 4,
 "nbformat_minor": 5
}
